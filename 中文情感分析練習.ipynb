{
 "cells": [
  {
   "cell_type": "code",
   "execution_count": 60,
   "metadata": {},
   "outputs": [],
   "source": [
    "import pandas as pd\n",
    "sentment_table = pd.read_excel('情感辭典.xlsx')\n",
    "sentment_table.drop(['Unnamed: 10','Unnamed: 11'],inplace=True,axis=1)\n",
    "pos_table = pd.read_excel('情感辭典.xlsx','Sheet2')\n",
    "neg_table = pd.read_excel('情感辭典.xlsx','Sheet3')"
   ]
  },
  {
   "cell_type": "code",
   "execution_count": 65,
   "metadata": {},
   "outputs": [],
   "source": [
    "pos_dict = dict(zip(list(pos_table.word),list(pos_table.強度)))\n",
    "neg_dict = dict(zip(list(neg_table.word),map(lambda a:a*(0-1),list(neg_table.強度)) ))\n",
    "sentment_dict={**pos_dict,**neg_dict}"
   ]
  },
  {
   "cell_type": "code",
   "execution_count": 66,
   "metadata": {},
   "outputs": [],
   "source": [
    "def is_number(s):\n",
    "    try:\n",
    "        float(s)\n",
    "        return True\n",
    "    except ValueError:\n",
    "        pass\n",
    " \n",
    "    try:\n",
    "        import unicodedata\n",
    "        unicodedata.numeric(s)\n",
    "        return True\n",
    "    except (TypeError, ValueError):\n",
    "        pass\n",
    " \n",
    "    return False"
   ]
  },
  {
   "cell_type": "code",
   "execution_count": 67,
   "metadata": {},
   "outputs": [],
   "source": [
    "for w in sentment_dict.keys():\n",
    "    if is_number(w):\n",
    "        pass\n",
    "    else:\n",
    "        jieba.suggest_freq(w,True)"
   ]
  },
  {
   "cell_type": "code",
   "execution_count": 68,
   "metadata": {},
   "outputs": [],
   "source": [
    "import re\n",
    "stop_words = [re.findall(r'\\S+',w)[0] for w in open('stopwords.txt',encoding='utf8').readlines() if len(re.findall(r'\\S+',w))>0]\n",
    "def sent2word(sentence,stop_words=stop_words):\n",
    "    words = jieba.cut(sentence, HMM=False)\n",
    "    words = [w for w in words if w not in stop_words]\n",
    "    return words"
   ]
  },
  {
   "cell_type": "code",
   "execution_count": 150,
   "metadata": {},
   "outputs": [],
   "source": [
    "def get_sentment(sent):\n",
    "    tokens = sent2word(sent)\n",
    "    score = 0\n",
    "    countword = 0\n",
    "    for w in tokens:        \n",
    "        if w in sentment_dict.keys():\n",
    "            score += sentment_dict[w]\n",
    "            countword += 1\n",
    "            print(w,end=' ')\n",
    "            print(sentment_dict[w])\n",
    "    if countword != 0:\n",
    "        return (score/countword)\n",
    "    else:\n",
    "        return 0"
   ]
  },
  {
   "cell_type": "code",
   "execution_count": 164,
   "metadata": {},
   "outputs": [
    {
     "name": "stdout",
     "output_type": "stream",
     "text": [
      "不好 -3\n",
      "總分數＝ -3.0\n"
     ]
    }
   ],
   "source": [
    "sent =\"一點 也 不好 沒有 人 懂 \"\n",
    "score=get_sentment(sent)\n",
    "print('總分數＝',score)\n"
   ]
  },
  {
   "cell_type": "code",
   "execution_count": 167,
   "metadata": {},
   "outputs": [
    {
     "name": "stdout",
     "output_type": "stream",
     "text": [
      "我 r\n",
      "不 d\n",
      "認為 v\n",
      "人類 n\n",
      "非常 d\n",
      "聰明 x\n"
     ]
    }
   ],
   "source": [
    "import jieba.posseg as pseg\n",
    "words = pseg.cut(\"我不認為人類非常聰明\")\n",
    "for word, flag in words:\n",
    "    print('%s %s' % (word, flag))"
   ]
  },
  {
   "cell_type": "code",
   "execution_count": null,
   "metadata": {},
   "outputs": [],
   "source": []
  }
 ],
 "metadata": {
  "kernelspec": {
   "display_name": "Python 3",
   "language": "python",
   "name": "python3"
  },
  "language_info": {
   "codemirror_mode": {
    "name": "ipython",
    "version": 3
   },
   "file_extension": ".py",
   "mimetype": "text/x-python",
   "name": "python",
   "nbconvert_exporter": "python",
   "pygments_lexer": "ipython3",
   "version": "3.6.3"
  }
 },
 "nbformat": 4,
 "nbformat_minor": 2
}
